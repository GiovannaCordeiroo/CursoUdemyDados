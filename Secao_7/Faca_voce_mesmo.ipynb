{
 "cells": [
  {
   "cell_type": "code",
   "execution_count": null,
   "id": "initial_id",
   "metadata": {
    "collapsed": true
   },
   "outputs": [],
   "source": "#AULA 57 - FAÇA VOCE MESMO"
  },
  {
   "metadata": {
    "ExecuteTime": {
     "end_time": "2025-01-16T14:43:26.492597Z",
     "start_time": "2025-01-16T14:43:26.475288Z"
    }
   },
   "cell_type": "code",
   "source": [
    "#1. Faça um programa que tenha uma função chamada amplitude. A função deve receber uma lista e imprimir a amplitude(DIFERENÇA DO VALOR MENOR E MAIOR).\n",
    "#Crie também um código para testar sua função\n",
    "\n",
    "def amplitude (Lista):\n",
    "    Diferenca = max(Lista) - min(Lista)\n",
    "    return  Diferenca"
   ],
   "id": "c932afa43ad942e",
   "outputs": [],
   "execution_count": 10
  },
  {
   "metadata": {
    "ExecuteTime": {
     "end_time": "2025-01-16T14:04:25.806289Z",
     "start_time": "2025-01-16T14:04:25.790181Z"
    }
   },
   "cell_type": "code",
   "source": [
    " lista_teste = [10,3,5]\n",
    "resultado = amplitude(lista_teste)\n",
    "print(\"Resultado do lista é:\", resultado)"
   ],
   "id": "9813084b44155014",
   "outputs": [
    {
     "name": "stdout",
     "output_type": "stream",
     "text": [
      "Resultado do lista é: 7\n"
     ]
    }
   ],
   "execution_count": 5
  },
  {
   "metadata": {
    "ExecuteTime": {
     "end_time": "2025-01-16T15:01:05.104992Z",
     "start_time": "2025-01-16T15:01:05.087341Z"
    }
   },
   "cell_type": "code",
   "source": [
    "#2. Faça uma função que receba uma string e imprima esta string na forma vertical\n",
    "\n",
    "def string(texto):\n",
    "    for n in range(0, len(texto)):\n",
    "        print(texto[n])\n",
    "string(\"gigi\")"
   ],
   "id": "72aefc77a1d4a511",
   "outputs": [
    {
     "name": "stdout",
     "output_type": "stream",
     "text": [
      "g\n",
      "i\n",
      "g\n",
      "i\n"
     ]
    }
   ],
   "execution_count": 21
  },
  {
   "metadata": {},
   "cell_type": "code",
   "outputs": [],
   "execution_count": null,
   "source": "",
   "id": "48c618cf25bae943"
  },
  {
   "metadata": {
    "ExecuteTime": {
     "end_time": "2025-01-16T15:01:16.020576Z",
     "start_time": "2025-01-16T15:01:15.998487Z"
    }
   },
   "cell_type": "code",
   "source": [
    "#3. Crie um programa que leia o peso de uma carga em números inteiros. \n",
    "#Se o peso for até 10 kg, informe que o valor será de R$ 50,00. \n",
    "#Entre 11 e 20 kg, informe que o valor será de R$ 80. \n",
    "# Se for maior que  20 informe que o transporte não é aceito. Teste vários pesos.\n",
    "C1=10\n",
    "def Peso(C1):\n",
    "   \n",
    "    if C1 <=10:\n",
    "        print(\"Valor da carga é de R$50,00\")\n",
    "    elif C1>= 11 and C1<=20: \n",
    "        print(\"Valor da carga é de R$80,00\")\n",
    "    else:\n",
    "        print(\"Otratamento não é aceito\")\n",
    "Peso(C1)\n"
   ],
   "id": "f9656cc3796d8029",
   "outputs": [
    {
     "name": "stdout",
     "output_type": "stream",
     "text": [
      "Valor da carga é de R$50,00\n"
     ]
    }
   ],
   "execution_count": 22
  }
 ],
 "metadata": {
  "kernelspec": {
   "display_name": "Python 3",
   "language": "python",
   "name": "python3"
  },
  "language_info": {
   "codemirror_mode": {
    "name": "ipython",
    "version": 2
   },
   "file_extension": ".py",
   "mimetype": "text/x-python",
   "name": "python",
   "nbconvert_exporter": "python",
   "pygments_lexer": "ipython2",
   "version": "2.7.6"
  }
 },
 "nbformat": 4,
 "nbformat_minor": 5
}
